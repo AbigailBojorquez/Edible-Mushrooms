{
  "nbformat": 4,
  "nbformat_minor": 0,
  "metadata": {
    "colab": {
      "provenance": [],
      "collapsed_sections": [],
      "mount_file_id": "1L-FPNzHRXxsmkfacqA2uE5ilgr3OKEQ_",
      "authorship_tag": "ABX9TyN6nZ6+JQtgMEg2Efb1RkW4",
      "include_colab_link": true
    },
    "kernelspec": {
      "name": "python3",
      "display_name": "Python 3"
    },
    "language_info": {
      "name": "python"
    }
  },
  "cells": [
    {
      "cell_type": "markdown",
      "metadata": {
        "id": "view-in-github",
        "colab_type": "text"
      },
      "source": [
        "<a href=\"https://colab.research.google.com/github/AbigailBojorquez/Edible-Mushrooms/blob/main/Project_2_(part_4).ipynb\" target=\"_parent\"><img src=\"https://colab.research.google.com/assets/colab-badge.svg\" alt=\"Open In Colab\"/></a>"
      ]
    },
    {
      "cell_type": "code",
      "execution_count": 190,
      "metadata": {
        "colab": {
          "base_uri": "https://localhost:8080/"
        },
        "id": "vzFvJAUpGqAV",
        "outputId": "e3f344b9-75db-43ee-c2e8-8b48e79eabc9"
      },
      "outputs": [
        {
          "output_type": "stream",
          "name": "stdout",
          "text": [
            "Drive already mounted at /content/drive; to attempt to forcibly remount, call drive.mount(\"/content/drive\", force_remount=True).\n"
          ]
        }
      ],
      "source": [
        "from google.colab import drive\n",
        "drive.mount('/content/drive')"
      ]
    },
    {
      "cell_type": "code",
      "source": [
        "# Importing Libaries\n",
        "import pandas as pd\n",
        "import numpy as np\n",
        "import seaborn as sns\n",
        "import matplotlib.pyplot as plt\n",
        "from sklearn.preprocessing import StandardScaler\n",
        "from sklearn.cluster import KMeans\n",
        "from sklearn.model_selection import train_test_split, GridSearchCV\n",
        "from sklearn.preprocessing import OneHotEncoder\n",
        "from sklearn.compose import make_column_selector, make_column_transformer\n",
        "from sklearn.metrics import mean_squared_error, r2_score\n",
        "from sklearn.impute import SimpleImputer\n",
        "from sklearn.pipeline import make_pipeline\n",
        "from sklearn.neighbors import KNeighborsClassifier\n",
        "from sklearn.linear_model import LogisticRegression\n",
        "from sklearn.ensemble import RandomForestClassifier\n",
        "from sklearn.model_selection import GridSearchCV\n",
        "from sklearn.tree import DecisionTreeClassifier\n",
        "from sklearn.decomposition import PCA\n",
        "from sklearn.metrics import classification_report, confusion_matrix\n",
        "from sklearn.metrics import accuracy_score, precision_score, recall_score, classification_report, ConfusionMatrixDisplay"
      ],
      "metadata": {
        "id": "O3tkZKBMYzgb"
      },
      "execution_count": 191,
      "outputs": []
    },
    {
      "cell_type": "code",
      "source": [
        "# Set display options\n",
        "# Display all columns\n",
        "pd.set_option('display.max_column', None)\n",
        "# Display full width of field\n",
        "pd.set_option('display.max_colwidth', None)\n",
        "# Display table across entire available view\n",
        "pd.set_option('display.width', -1)\n",
        "# Display all rows\n",
        "pd.set_option('display.max_rows', None)"
      ],
      "metadata": {
        "id": "NPZk35ZF0AR5"
      },
      "execution_count": 192,
      "outputs": []
    },
    {
      "cell_type": "code",
      "source": [
        "# Set global scikit-learn configuration \n",
        "from sklearn import set_config\n",
        "# Display estimators as a diagram in a Jupyter lab or notebook context\n",
        "set_config(display= 'diagram') # {‘text’, ‘diagram’}, default=None"
      ],
      "metadata": {
        "id": "IFU_YyM_1dT1"
      },
      "execution_count": 193,
      "outputs": []
    },
    {
      "cell_type": "markdown",
      "source": [
        "## First Choice: Dataset 1"
      ],
      "metadata": {
        "id": "B9OiqCVNYa_v"
      }
    },
    {
      "cell_type": "code",
      "source": [
        "# Loading Data\n",
        "path = '/content/drive/MyDrive/Coding Dojo/Project 2/Data/mushrooms.csv'\n",
        "df = pd.read_csv(path)\n",
        "df.head()"
      ],
      "metadata": {
        "colab": {
          "base_uri": "https://localhost:8080/",
          "height": 322
        },
        "id": "ejgu69puXUmY",
        "outputId": "c87b9679-839f-4c4a-a538-7968f153c8ad"
      },
      "execution_count": 194,
      "outputs": [
        {
          "output_type": "execute_result",
          "data": {
            "text/plain": [
              "  class  \\\n",
              "0     p   \n",
              "1     e   \n",
              "2     e   \n",
              "3     p   \n",
              "4     e   \n",
              "\n",
              "  cap-shape  \\\n",
              "0         x   \n",
              "1         x   \n",
              "2         b   \n",
              "3         x   \n",
              "4         x   \n",
              "\n",
              "  cap-surface  \\\n",
              "0           s   \n",
              "1           s   \n",
              "2           s   \n",
              "3           y   \n",
              "4           s   \n",
              "\n",
              "  cap-color  \\\n",
              "0         n   \n",
              "1         y   \n",
              "2         w   \n",
              "3         w   \n",
              "4         g   \n",
              "\n",
              "  bruises  \\\n",
              "0       t   \n",
              "1       t   \n",
              "2       t   \n",
              "3       t   \n",
              "4       f   \n",
              "\n",
              "  odor  \\\n",
              "0    p   \n",
              "1    a   \n",
              "2    l   \n",
              "3    p   \n",
              "4    n   \n",
              "\n",
              "  gill-attachment  \\\n",
              "0               f   \n",
              "1               f   \n",
              "2               f   \n",
              "3               f   \n",
              "4               f   \n",
              "\n",
              "  gill-spacing  \\\n",
              "0            c   \n",
              "1            c   \n",
              "2            c   \n",
              "3            c   \n",
              "4            w   \n",
              "\n",
              "  gill-size  \\\n",
              "0         n   \n",
              "1         b   \n",
              "2         b   \n",
              "3         n   \n",
              "4         b   \n",
              "\n",
              "  gill-color  \\\n",
              "0          k   \n",
              "1          k   \n",
              "2          n   \n",
              "3          n   \n",
              "4          k   \n",
              "\n",
              "  stalk-shape  \\\n",
              "0           e   \n",
              "1           e   \n",
              "2           e   \n",
              "3           e   \n",
              "4           t   \n",
              "\n",
              "  stalk-root  \\\n",
              "0          e   \n",
              "1          c   \n",
              "2          c   \n",
              "3          e   \n",
              "4          e   \n",
              "\n",
              "  stalk-surface-above-ring  \\\n",
              "0                        s   \n",
              "1                        s   \n",
              "2                        s   \n",
              "3                        s   \n",
              "4                        s   \n",
              "\n",
              "  stalk-surface-below-ring  \\\n",
              "0                        s   \n",
              "1                        s   \n",
              "2                        s   \n",
              "3                        s   \n",
              "4                        s   \n",
              "\n",
              "  stalk-color-above-ring  \\\n",
              "0                      w   \n",
              "1                      w   \n",
              "2                      w   \n",
              "3                      w   \n",
              "4                      w   \n",
              "\n",
              "  stalk-color-below-ring  \\\n",
              "0                      w   \n",
              "1                      w   \n",
              "2                      w   \n",
              "3                      w   \n",
              "4                      w   \n",
              "\n",
              "  veil-type  \\\n",
              "0         p   \n",
              "1         p   \n",
              "2         p   \n",
              "3         p   \n",
              "4         p   \n",
              "\n",
              "  veil-color  \\\n",
              "0          w   \n",
              "1          w   \n",
              "2          w   \n",
              "3          w   \n",
              "4          w   \n",
              "\n",
              "  ring-number  \\\n",
              "0           o   \n",
              "1           o   \n",
              "2           o   \n",
              "3           o   \n",
              "4           o   \n",
              "\n",
              "  ring-type  \\\n",
              "0         p   \n",
              "1         p   \n",
              "2         p   \n",
              "3         p   \n",
              "4         e   \n",
              "\n",
              "  spore-print-color  \\\n",
              "0                 k   \n",
              "1                 n   \n",
              "2                 n   \n",
              "3                 k   \n",
              "4                 n   \n",
              "\n",
              "  population  \\\n",
              "0          s   \n",
              "1          n   \n",
              "2          n   \n",
              "3          s   \n",
              "4          a   \n",
              "\n",
              "  habitat  \n",
              "0       u  \n",
              "1       g  \n",
              "2       m  \n",
              "3       u  \n",
              "4       g  "
            ],
            "text/html": [
              "\n",
              "  <div id=\"df-85cf006b-aa1d-40f1-979e-62a81eadf4d7\">\n",
              "    <div class=\"colab-df-container\">\n",
              "      <div>\n",
              "<style scoped>\n",
              "    .dataframe tbody tr th:only-of-type {\n",
              "        vertical-align: middle;\n",
              "    }\n",
              "\n",
              "    .dataframe tbody tr th {\n",
              "        vertical-align: top;\n",
              "    }\n",
              "\n",
              "    .dataframe thead th {\n",
              "        text-align: right;\n",
              "    }\n",
              "</style>\n",
              "<table border=\"1\" class=\"dataframe\">\n",
              "  <thead>\n",
              "    <tr style=\"text-align: right;\">\n",
              "      <th></th>\n",
              "      <th>class</th>\n",
              "      <th>cap-shape</th>\n",
              "      <th>cap-surface</th>\n",
              "      <th>cap-color</th>\n",
              "      <th>bruises</th>\n",
              "      <th>odor</th>\n",
              "      <th>gill-attachment</th>\n",
              "      <th>gill-spacing</th>\n",
              "      <th>gill-size</th>\n",
              "      <th>gill-color</th>\n",
              "      <th>stalk-shape</th>\n",
              "      <th>stalk-root</th>\n",
              "      <th>stalk-surface-above-ring</th>\n",
              "      <th>stalk-surface-below-ring</th>\n",
              "      <th>stalk-color-above-ring</th>\n",
              "      <th>stalk-color-below-ring</th>\n",
              "      <th>veil-type</th>\n",
              "      <th>veil-color</th>\n",
              "      <th>ring-number</th>\n",
              "      <th>ring-type</th>\n",
              "      <th>spore-print-color</th>\n",
              "      <th>population</th>\n",
              "      <th>habitat</th>\n",
              "    </tr>\n",
              "  </thead>\n",
              "  <tbody>\n",
              "    <tr>\n",
              "      <th>0</th>\n",
              "      <td>p</td>\n",
              "      <td>x</td>\n",
              "      <td>s</td>\n",
              "      <td>n</td>\n",
              "      <td>t</td>\n",
              "      <td>p</td>\n",
              "      <td>f</td>\n",
              "      <td>c</td>\n",
              "      <td>n</td>\n",
              "      <td>k</td>\n",
              "      <td>e</td>\n",
              "      <td>e</td>\n",
              "      <td>s</td>\n",
              "      <td>s</td>\n",
              "      <td>w</td>\n",
              "      <td>w</td>\n",
              "      <td>p</td>\n",
              "      <td>w</td>\n",
              "      <td>o</td>\n",
              "      <td>p</td>\n",
              "      <td>k</td>\n",
              "      <td>s</td>\n",
              "      <td>u</td>\n",
              "    </tr>\n",
              "    <tr>\n",
              "      <th>1</th>\n",
              "      <td>e</td>\n",
              "      <td>x</td>\n",
              "      <td>s</td>\n",
              "      <td>y</td>\n",
              "      <td>t</td>\n",
              "      <td>a</td>\n",
              "      <td>f</td>\n",
              "      <td>c</td>\n",
              "      <td>b</td>\n",
              "      <td>k</td>\n",
              "      <td>e</td>\n",
              "      <td>c</td>\n",
              "      <td>s</td>\n",
              "      <td>s</td>\n",
              "      <td>w</td>\n",
              "      <td>w</td>\n",
              "      <td>p</td>\n",
              "      <td>w</td>\n",
              "      <td>o</td>\n",
              "      <td>p</td>\n",
              "      <td>n</td>\n",
              "      <td>n</td>\n",
              "      <td>g</td>\n",
              "    </tr>\n",
              "    <tr>\n",
              "      <th>2</th>\n",
              "      <td>e</td>\n",
              "      <td>b</td>\n",
              "      <td>s</td>\n",
              "      <td>w</td>\n",
              "      <td>t</td>\n",
              "      <td>l</td>\n",
              "      <td>f</td>\n",
              "      <td>c</td>\n",
              "      <td>b</td>\n",
              "      <td>n</td>\n",
              "      <td>e</td>\n",
              "      <td>c</td>\n",
              "      <td>s</td>\n",
              "      <td>s</td>\n",
              "      <td>w</td>\n",
              "      <td>w</td>\n",
              "      <td>p</td>\n",
              "      <td>w</td>\n",
              "      <td>o</td>\n",
              "      <td>p</td>\n",
              "      <td>n</td>\n",
              "      <td>n</td>\n",
              "      <td>m</td>\n",
              "    </tr>\n",
              "    <tr>\n",
              "      <th>3</th>\n",
              "      <td>p</td>\n",
              "      <td>x</td>\n",
              "      <td>y</td>\n",
              "      <td>w</td>\n",
              "      <td>t</td>\n",
              "      <td>p</td>\n",
              "      <td>f</td>\n",
              "      <td>c</td>\n",
              "      <td>n</td>\n",
              "      <td>n</td>\n",
              "      <td>e</td>\n",
              "      <td>e</td>\n",
              "      <td>s</td>\n",
              "      <td>s</td>\n",
              "      <td>w</td>\n",
              "      <td>w</td>\n",
              "      <td>p</td>\n",
              "      <td>w</td>\n",
              "      <td>o</td>\n",
              "      <td>p</td>\n",
              "      <td>k</td>\n",
              "      <td>s</td>\n",
              "      <td>u</td>\n",
              "    </tr>\n",
              "    <tr>\n",
              "      <th>4</th>\n",
              "      <td>e</td>\n",
              "      <td>x</td>\n",
              "      <td>s</td>\n",
              "      <td>g</td>\n",
              "      <td>f</td>\n",
              "      <td>n</td>\n",
              "      <td>f</td>\n",
              "      <td>w</td>\n",
              "      <td>b</td>\n",
              "      <td>k</td>\n",
              "      <td>t</td>\n",
              "      <td>e</td>\n",
              "      <td>s</td>\n",
              "      <td>s</td>\n",
              "      <td>w</td>\n",
              "      <td>w</td>\n",
              "      <td>p</td>\n",
              "      <td>w</td>\n",
              "      <td>o</td>\n",
              "      <td>e</td>\n",
              "      <td>n</td>\n",
              "      <td>a</td>\n",
              "      <td>g</td>\n",
              "    </tr>\n",
              "  </tbody>\n",
              "</table>\n",
              "</div>\n",
              "      <button class=\"colab-df-convert\" onclick=\"convertToInteractive('df-85cf006b-aa1d-40f1-979e-62a81eadf4d7')\"\n",
              "              title=\"Convert this dataframe to an interactive table.\"\n",
              "              style=\"display:none;\">\n",
              "        \n",
              "  <svg xmlns=\"http://www.w3.org/2000/svg\" height=\"24px\"viewBox=\"0 0 24 24\"\n",
              "       width=\"24px\">\n",
              "    <path d=\"M0 0h24v24H0V0z\" fill=\"none\"/>\n",
              "    <path d=\"M18.56 5.44l.94 2.06.94-2.06 2.06-.94-2.06-.94-.94-2.06-.94 2.06-2.06.94zm-11 1L8.5 8.5l.94-2.06 2.06-.94-2.06-.94L8.5 2.5l-.94 2.06-2.06.94zm10 10l.94 2.06.94-2.06 2.06-.94-2.06-.94-.94-2.06-.94 2.06-2.06.94z\"/><path d=\"M17.41 7.96l-1.37-1.37c-.4-.4-.92-.59-1.43-.59-.52 0-1.04.2-1.43.59L10.3 9.45l-7.72 7.72c-.78.78-.78 2.05 0 2.83L4 21.41c.39.39.9.59 1.41.59.51 0 1.02-.2 1.41-.59l7.78-7.78 2.81-2.81c.8-.78.8-2.07 0-2.86zM5.41 20L4 18.59l7.72-7.72 1.47 1.35L5.41 20z\"/>\n",
              "  </svg>\n",
              "      </button>\n",
              "      \n",
              "  <style>\n",
              "    .colab-df-container {\n",
              "      display:flex;\n",
              "      flex-wrap:wrap;\n",
              "      gap: 12px;\n",
              "    }\n",
              "\n",
              "    .colab-df-convert {\n",
              "      background-color: #E8F0FE;\n",
              "      border: none;\n",
              "      border-radius: 50%;\n",
              "      cursor: pointer;\n",
              "      display: none;\n",
              "      fill: #1967D2;\n",
              "      height: 32px;\n",
              "      padding: 0 0 0 0;\n",
              "      width: 32px;\n",
              "    }\n",
              "\n",
              "    .colab-df-convert:hover {\n",
              "      background-color: #E2EBFA;\n",
              "      box-shadow: 0px 1px 2px rgba(60, 64, 67, 0.3), 0px 1px 3px 1px rgba(60, 64, 67, 0.15);\n",
              "      fill: #174EA6;\n",
              "    }\n",
              "\n",
              "    [theme=dark] .colab-df-convert {\n",
              "      background-color: #3B4455;\n",
              "      fill: #D2E3FC;\n",
              "    }\n",
              "\n",
              "    [theme=dark] .colab-df-convert:hover {\n",
              "      background-color: #434B5C;\n",
              "      box-shadow: 0px 1px 3px 1px rgba(0, 0, 0, 0.15);\n",
              "      filter: drop-shadow(0px 1px 2px rgba(0, 0, 0, 0.3));\n",
              "      fill: #FFFFFF;\n",
              "    }\n",
              "  </style>\n",
              "\n",
              "      <script>\n",
              "        const buttonEl =\n",
              "          document.querySelector('#df-85cf006b-aa1d-40f1-979e-62a81eadf4d7 button.colab-df-convert');\n",
              "        buttonEl.style.display =\n",
              "          google.colab.kernel.accessAllowed ? 'block' : 'none';\n",
              "\n",
              "        async function convertToInteractive(key) {\n",
              "          const element = document.querySelector('#df-85cf006b-aa1d-40f1-979e-62a81eadf4d7');\n",
              "          const dataTable =\n",
              "            await google.colab.kernel.invokeFunction('convertToInteractive',\n",
              "                                                     [key], {});\n",
              "          if (!dataTable) return;\n",
              "\n",
              "          const docLinkHtml = 'Like what you see? Visit the ' +\n",
              "            '<a target=\"_blank\" href=https://colab.research.google.com/notebooks/data_table.ipynb>data table notebook</a>'\n",
              "            + ' to learn more about interactive tables.';\n",
              "          element.innerHTML = '';\n",
              "          dataTable['output_type'] = 'display_data';\n",
              "          await google.colab.output.renderOutput(dataTable, element);\n",
              "          const docLink = document.createElement('div');\n",
              "          docLink.innerHTML = docLinkHtml;\n",
              "          element.appendChild(docLink);\n",
              "        }\n",
              "      </script>\n",
              "    </div>\n",
              "  </div>\n",
              "  "
            ]
          },
          "metadata": {},
          "execution_count": 194
        }
      ]
    },
    {
      "cell_type": "code",
      "source": [
        "df.info()"
      ],
      "metadata": {
        "colab": {
          "base_uri": "https://localhost:8080/"
        },
        "id": "bb1ODrAIda4c",
        "outputId": "70972fe7-b783-4a85-85a2-9576328a0a09"
      },
      "execution_count": 195,
      "outputs": [
        {
          "output_type": "stream",
          "name": "stdout",
          "text": [
            "<class 'pandas.core.frame.DataFrame'>\n",
            "RangeIndex: 8124 entries, 0 to 8123\n",
            "Data columns (total 23 columns):\n",
            " #   Column                    Non-Null Count  Dtype \n",
            "---  ------                    --------------  ----- \n",
            " 0   class                     8124 non-null   object\n",
            " 1   cap-shape                 8124 non-null   object\n",
            " 2   cap-surface               8124 non-null   object\n",
            " 3   cap-color                 8124 non-null   object\n",
            " 4   bruises                   8124 non-null   object\n",
            " 5   odor                      8124 non-null   object\n",
            " 6   gill-attachment           8124 non-null   object\n",
            " 7   gill-spacing              8124 non-null   object\n",
            " 8   gill-size                 8124 non-null   object\n",
            " 9   gill-color                8124 non-null   object\n",
            " 10  stalk-shape               8124 non-null   object\n",
            " 11  stalk-root                8124 non-null   object\n",
            " 12  stalk-surface-above-ring  8124 non-null   object\n",
            " 13  stalk-surface-below-ring  8124 non-null   object\n",
            " 14  stalk-color-above-ring    8124 non-null   object\n",
            " 15  stalk-color-below-ring    8124 non-null   object\n",
            " 16  veil-type                 8124 non-null   object\n",
            " 17  veil-color                8124 non-null   object\n",
            " 18  ring-number               8124 non-null   object\n",
            " 19  ring-type                 8124 non-null   object\n",
            " 20  spore-print-color         8124 non-null   object\n",
            " 21  population                8124 non-null   object\n",
            " 22  habitat                   8124 non-null   object\n",
            "dtypes: object(23)\n",
            "memory usage: 1.4+ MB\n"
          ]
        }
      ]
    },
    {
      "cell_type": "code",
      "source": [
        "# Check for duplicates and missing values\n",
        "print('Missing data:\\n', df.isna().sum())\n",
        "print('\\n')\n",
        "print('Duplicates:', df.duplicated().sum())"
      ],
      "metadata": {
        "colab": {
          "base_uri": "https://localhost:8080/"
        },
        "id": "zjixCamue9mD",
        "outputId": "129be097-87e9-48f5-afd9-4d064c256ec7"
      },
      "execution_count": 196,
      "outputs": [
        {
          "output_type": "stream",
          "name": "stdout",
          "text": [
            "Missing data:\n",
            " class                       0\n",
            "cap-shape                   0\n",
            "cap-surface                 0\n",
            "cap-color                   0\n",
            "bruises                     0\n",
            "odor                        0\n",
            "gill-attachment             0\n",
            "gill-spacing                0\n",
            "gill-size                   0\n",
            "gill-color                  0\n",
            "stalk-shape                 0\n",
            "stalk-root                  0\n",
            "stalk-surface-above-ring    0\n",
            "stalk-surface-below-ring    0\n",
            "stalk-color-above-ring      0\n",
            "stalk-color-below-ring      0\n",
            "veil-type                   0\n",
            "veil-color                  0\n",
            "ring-number                 0\n",
            "ring-type                   0\n",
            "spore-print-color           0\n",
            "population                  0\n",
            "habitat                     0\n",
            "dtype: int64\n",
            "\n",
            "\n",
            "Duplicates: 0\n"
          ]
        }
      ]
    },
    {
      "cell_type": "code",
      "source": [
        "df_ml = df.copy()"
      ],
      "metadata": {
        "id": "ObcytqryBBpQ"
      },
      "execution_count": 197,
      "outputs": []
    },
    {
      "cell_type": "code",
      "source": [
        "df_ml[\"class\"] = df_ml[\"class\"].replace(\"p\", 1)\n",
        "df_ml[\"class\"] = df_ml[\"class\"].replace(\"e\", 0)"
      ],
      "metadata": {
        "id": "ldlYVpE-bd05"
      },
      "execution_count": 198,
      "outputs": []
    },
    {
      "cell_type": "code",
      "source": [
        "y = df_ml['class']\n",
        "X = df_ml.drop(columns = 'class')\n",
        "\n",
        "# Train test split\n",
        "X_train, X_test, y_train, y_test = train_test_split(X, y, random_state=42)"
      ],
      "metadata": {
        "id": "vVt96b-ZnCY7"
      },
      "execution_count": 199,
      "outputs": []
    },
    {
      "cell_type": "code",
      "source": [
        "# We do still have categorical data that needs to be converted\n",
        "cat_feat = make_column_selector(dtype_include = 'object')\n",
        "\n",
        "\n",
        "# Instanntiat the column transformers\n",
        "encoder = OneHotEncoder(sparse=False, handle_unknown= 'ignore')\n"
      ],
      "metadata": {
        "id": "wHzAiIQUngr4"
      },
      "execution_count": 200,
      "outputs": []
    },
    {
      "cell_type": "markdown",
      "source": [
        "# Modeling "
      ],
      "metadata": {
        "id": "eIXNgznCLZxZ"
      }
    },
    {
      "cell_type": "code",
      "source": [
        "# I am using this code so that in the future it is easier to just use this code and it will run accuracy, recall and precision. \n",
        "def metrics(pred,y):\n",
        "  print(accuracy_score(y,pred))\n",
        "  print(recall_score(y,pred))\n",
        "  print(precision_score(y,pred))"
      ],
      "metadata": {
        "id": "W-o45kVLLdOv"
      },
      "execution_count": 201,
      "outputs": []
    },
    {
      "cell_type": "markdown",
      "source": [
        "## Logistic Regression Model "
      ],
      "metadata": {
        "id": "xqb1cpMYMN--"
      }
    },
    {
      "cell_type": "code",
      "source": [
        "# create a list of c values and empty lists for scores\n",
        "c_values = [0.0001, 0.001, 0.01, 0.1, 1, 10, 100, 1000]\n",
        "train_scores = []\n",
        "test_scores = []\n",
        "\n",
        "#iterative over the c values\n",
        "for c in c_values:\n",
        " \n",
        "  # instantiate a model with each value of c and fit it on the data\n",
        "  log_reg = LogisticRegression(C=c, max_iter=1000, solver='liblinear', penalty='l2')\n",
        "  log_reg_pipe = make_pipeline(encoder, log_reg)\n",
        "  log_reg_pipe.fit(X_train, y_train)\n",
        " \n",
        "  # add the training and testing scores to our scores lists\n",
        "  train_scores.append(log_reg_pipe.score(X_train, y_train))\n",
        "  test_scores.append(log_reg_pipe.score(X_test, y_test))\n",
        "\n",
        "# print a dictionary of values of C and accuracy scores\n",
        "{c:score for c, score in zip(c_values, test_scores)}"
      ],
      "metadata": {
        "colab": {
          "base_uri": "https://localhost:8080/"
        },
        "id": "uMsLplpFMnC9",
        "outputId": "0e477e3d-cb48-4a2d-9e59-f9ef7a9557bd"
      },
      "execution_count": 202,
      "outputs": [
        {
          "output_type": "execute_result",
          "data": {
            "text/plain": [
              "{0.0001: 0.8872476612506155,\n",
              " 0.001: 0.9261447562776958,\n",
              " 0.01: 0.9857213195470211,\n",
              " 0.1: 0.999015263417036,\n",
              " 1: 1.0,\n",
              " 10: 1.0,\n",
              " 100: 1.0,\n",
              " 1000: 1.0}"
            ]
          },
          "metadata": {},
          "execution_count": 202
        }
      ]
    },
    {
      "cell_type": "code",
      "source": [
        "#plot the change in accuracy as we change the value of C\n",
        "fig, ax = plt.subplots(1,1)\n",
        "ax.plot(c_values, train_scores, label='Training Accuracy')\n",
        "ax.plot(c_values, test_scores, label='Testing Accuracy')\n",
        "ax.set_xticks(c_values)\n",
        "ax.set_title('Change in accuracy over C values for L1 Regularization')\n",
        "ax.legend()\n",
        " \n",
        "#set the x axis to a logarithmic scale to show the values of C in even intervals\n",
        "ax.set_xscale('log')"
      ],
      "metadata": {
        "colab": {
          "base_uri": "https://localhost:8080/",
          "height": 285
        },
        "id": "dr29AsvvVr1I",
        "outputId": "ecfb9e9a-dfc3-4f4a-ab4f-22c5626399ac"
      },
      "execution_count": 203,
      "outputs": [
        {
          "output_type": "display_data",
          "data": {
            "text/plain": [
              "<Figure size 432x288 with 1 Axes>"
            ],
            "image/png": "[encoded data removed]"
          },
          "metadata": {
            "needs_background": "light"
          }
        }
      ]
    },
    {
      "cell_type": "markdown",
      "source": [
        "> This graph is showing the change in accuracy using the L1 regression. This simply restricts the size of coefficients. "
      ],
      "metadata": {
        "id": "C5cXnK8oWvZO"
      }
    },
    {
      "cell_type": "markdown",
      "source": [
        "> Logistic Regression metrics"
      ],
      "metadata": {
        "id": "o5A-zJGI9t1j"
      }
    },
    {
      "cell_type": "code",
      "source": [
        "%%time\n",
        "non_pca_log_reg_pipe= make_pipeline (encoder, LogisticRegression())\n",
        "non_pca_log_reg_pipe.fit(X_train, y_train)\n",
        "NPLR_Train_preds = non_pca_log_reg_pipe.predict(X_train)\n",
        "NPLR_Test_preds = non_pca_log_reg_pipe.predict(X_test)\n",
        "metrics(NPLR_Train_preds,y_train)\n",
        "print()\n",
        "metrics(NPLR_Test_preds,y_test)"
      ],
      "metadata": {
        "colab": {
          "base_uri": "https://localhost:8080/"
        },
        "id": "waV6DFS-2net",
        "outputId": "de76fdd2-5726-4a94-f6b6-586a704ee568"
      },
      "execution_count": 212,
      "outputs": [
        {
          "output_type": "stream",
          "name": "stdout",
          "text": [
            "1.0\n",
            "1.0\n",
            "1.0\n",
            "\n",
            "1.0\n",
            "1.0\n",
            "1.0\n",
            "CPU times: user 332 ms, sys: 155 ms, total: 487 ms\n",
            "Wall time: 272 ms\n"
          ]
        }
      ]
    },
    {
      "cell_type": "code",
      "source": [
        "%%time\n",
        "pca_log_reg_pipe= make_pipeline (encoder, PCA(0.95), LogisticRegression())\n",
        "pca_log_reg_pipe.fit(X_train, y_train)\n",
        "PLR_Train_preds = pca_log_reg_pipe.predict(X_train)\n",
        "PLR_Test_preds = pca_log_reg_pipe.predict(X_test)\n",
        "metrics(PLR_Train_preds,y_train)\n",
        "print()\n",
        "metrics(PLR_Test_preds,y_test)"
      ],
      "metadata": {
        "colab": {
          "base_uri": "https://localhost:8080/"
        },
        "id": "DIfoCzfmGlv7",
        "outputId": "5114f4a5-ea27-42a2-a3eb-cb02c33033db"
      },
      "execution_count": 213,
      "outputs": [
        {
          "output_type": "stream",
          "name": "stdout",
          "text": [
            "0.9937633349745609\n",
            "0.9924786324786324\n",
            "0.9945186707776635\n",
            "\n",
            "0.9970457902511078\n",
            "0.9969727547931383\n",
            "0.9969727547931383\n",
            "CPU times: user 397 ms, sys: 143 ms, total: 540 ms\n",
            "Wall time: 316 ms\n"
          ]
        }
      ]
    },
    {
      "cell_type": "markdown",
      "source": [
        "- For Logistic Regression the non pca pipeline was the fastest model that took 487ms. This was 53ms faster than the pca pipline. "
      ],
      "metadata": {
        "id": "6EVZPdEYGWWi"
      }
    },
    {
      "cell_type": "markdown",
      "source": [
        "## Random Forest Classifier Model\n",
        "\n",
        "\n",
        "\n",
        "\n",
        " "
      ],
      "metadata": {
        "id": "a8k0z03ZY4od"
      }
    },
    {
      "cell_type": "code",
      "source": [
        "# Make Random FOrest Classifier model\n",
        "%%time\n",
        "rf = RandomForestClassifier(random_state=42)  \n",
        "rf_pipline = make_pipeline(encoder, rf)\n",
        "rf_pipline.fit(X_train, y_train)\n",
        "# Getting the estimated gepth\n",
        "est_depths = [estimator.get_depth() for estimator in rf.estimators_]\n"
      ],
      "metadata": {
        "colab": {
          "base_uri": "https://localhost:8080/"
        },
        "id": "A8yhZWSrY3Jn",
        "outputId": "4e3a9e3a-8602-4667-c73b-8e238c657e53"
      },
      "execution_count": 205,
      "outputs": [
        {
          "output_type": "stream",
          "name": "stdout",
          "text": [
            "CPU times: user 414 ms, sys: 71 ms, total: 485 ms\n",
            "Wall time: 410 ms\n"
          ]
        }
      ]
    },
    {
      "cell_type": "code",
      "source": [
        "%%time\n",
        "rf_for_train_preds = rf_pipline.predict(X_train)\n",
        "rf_for_test_preds = rf_pipline.predict(X_test)\n",
        "\n",
        "metrics (rf_for_train_preds, y_train)\n",
        "metrics (rf_for_test_preds, y_test)\n",
        "#non PCA"
      ],
      "metadata": {
        "colab": {
          "base_uri": "https://localhost:8080/"
        },
        "id": "5W8kXKEcDcDN",
        "outputId": "d285ad3d-1ea0-41c9-8b2b-372f09b715f8"
      },
      "execution_count": 206,
      "outputs": [
        {
          "output_type": "stream",
          "name": "stdout",
          "text": [
            "1.0\n",
            "1.0\n",
            "1.0\n",
            "1.0\n",
            "1.0\n",
            "1.0\n",
            "CPU times: user 175 ms, sys: 0 ns, total: 175 ms\n",
            "Wall time: 178 ms\n"
          ]
        }
      ]
    },
    {
      "cell_type": "markdown",
      "source": [
        "> Random Forest Classifier metrics"
      ],
      "metadata": {
        "id": "qolu-OjC92dx"
      }
    },
    {
      "cell_type": "code",
      "source": [
        "%%time\n",
        "pca_Random_Forest_pipe= make_pipeline (encoder, PCA(0.95), RandomForestClassifier())\n",
        "pca_Random_Forest_pipe.fit(X_train, y_train)\n"
      ],
      "metadata": {
        "colab": {
          "base_uri": "https://localhost:8080/",
          "height": 199
        },
        "id": "LewwZ6TrzISn",
        "outputId": "26c9398a-1180-4277-d638-dd7ac21992f3"
      },
      "execution_count": 207,
      "outputs": [
        {
          "output_type": "stream",
          "name": "stdout",
          "text": [
            "CPU times: user 2.69 s, sys: 144 ms, total: 2.84 s\n",
            "Wall time: 2.67 s\n"
          ]
        },
        {
          "output_type": "execute_result",
          "data": {
            "text/plain": [
              "Pipeline(steps=[('onehotencoder',\n",
              "                 OneHotEncoder(handle_unknown='ignore', sparse=False)),\n",
              "                ('pca', PCA(n_components=0.95)),\n",
              "                ('randomforestclassifier', RandomForestClassifier())])"
            ],
            "text/html": [
              "<style>#sk-a1d48005-8120-4eaf-be35-1dd5e22c12a0 {color: black;background-color: white;}#sk-a1d48005-8120-4eaf-be35-1dd5e22c12a0 pre{padding: 0;}#sk-a1d48005-8120-4eaf-be35-1dd5e22c12a0 div.sk-toggleable {background-color: white;}#sk-a1d48005-8120-4eaf-be35-1dd5e22c12a0 label.sk-toggleable__label {cursor: pointer;display: block;width: 100%;margin-bottom: 0;padding: 0.3em;box-sizing: border-box;text-align: center;}#sk-a1d48005-8120-4eaf-be35-1dd5e22c12a0 label.sk-toggleable__label-arrow:before {content: \"▸\";float: left;margin-right: 0.25em;color: #696969;}#sk-a1d48005-8120-4eaf-be35-1dd5e22c12a0 label.sk-toggleable__label-arrow:hover:before {color: black;}#sk-a1d48005-8120-4eaf-be35-1dd5e22c12a0 div.sk-estimator:hover label.sk-toggleable__label-arrow:before {color: black;}#sk-a1d48005-8120-4eaf-be35-1dd5e22c12a0 div.sk-toggleable__content {max-height: 0;max-width: 0;overflow: hidden;text-align: left;background-color: #f0f8ff;}#sk-a1d48005-8120-4eaf-be35-1dd5e22c12a0 div.sk-toggleable__content pre {margin: 0.2em;color: black;border-radius: 0.25em;background-color: #f0f8ff;}#sk-a1d48005-8120-4eaf-be35-1dd5e22c12a0 input.sk-toggleable__control:checked~div.sk-toggleable__content {max-height: 200px;max-width: 100%;overflow: auto;}#sk-a1d48005-8120-4eaf-be35-1dd5e22c12a0 input.sk-toggleable__control:checked~label.sk-toggleable__label-arrow:before {content: \"▾\";}#sk-a1d48005-8120-4eaf-be35-1dd5e22c12a0 div.sk-estimator input.sk-toggleable__control:checked~label.sk-toggleable__label {background-color: #d4ebff;}#sk-a1d48005-8120-4eaf-be35-1dd5e22c12a0 div.sk-label input.sk-toggleable__control:checked~label.sk-toggleable__label {background-color: #d4ebff;}#sk-a1d48005-8120-4eaf-be35-1dd5e22c12a0 input.sk-hidden--visually {border: 0;clip: rect(1px 1px 1px 1px);clip: rect(1px, 1px, 1px, 1px);height: 1px;margin: -1px;overflow: hidden;padding: 0;position: absolute;width: 1px;}#sk-a1d48005-8120-4eaf-be35-1dd5e22c12a0 div.sk-estimator {font-family: monospace;background-color: #f0f8ff;border: 1px dotted black;border-radius: 0.25em;box-sizing: border-box;margin-bottom: 0.5em;}#sk-a1d48005-8120-4eaf-be35-1dd5e22c12a0 div.sk-estimator:hover {background-color: #d4ebff;}#sk-a1d48005-8120-4eaf-be35-1dd5e22c12a0 div.sk-parallel-item::after {content: \"\";width: 100%;border-bottom: 1px solid gray;flex-grow: 1;}#sk-a1d48005-8120-4eaf-be35-1dd5e22c12a0 div.sk-label:hover label.sk-toggleable__label {background-color: #d4ebff;}#sk-a1d48005-8120-4eaf-be35-1dd5e22c12a0 div.sk-serial::before {content: \"\";position: absolute;border-left: 1px solid gray;box-sizing: border-box;top: 2em;bottom: 0;left: 50%;}#sk-a1d48005-8120-4eaf-be35-1dd5e22c12a0 div.sk-serial {display: flex;flex-direction: column;align-items: center;background-color: white;padding-right: 0.2em;padding-left: 0.2em;}#sk-a1d48005-8120-4eaf-be35-1dd5e22c12a0 div.sk-item {z-index: 1;}#sk-a1d48005-8120-4eaf-be35-1dd5e22c12a0 div.sk-parallel {display: flex;align-items: stretch;justify-content: center;background-color: white;}#sk-a1d48005-8120-4eaf-be35-1dd5e22c12a0 div.sk-parallel::before {content: \"\";position: absolute;border-left: 1px solid gray;box-sizing: border-box;top: 2em;bottom: 0;left: 50%;}#sk-a1d48005-8120-4eaf-be35-1dd5e22c12a0 div.sk-parallel-item {display: flex;flex-direction: column;position: relative;background-color: white;}#sk-a1d48005-8120-4eaf-be35-1dd5e22c12a0 div.sk-parallel-item:first-child::after {align-self: flex-end;width: 50%;}#sk-a1d48005-8120-4eaf-be35-1dd5e22c12a0 div.sk-parallel-item:last-child::after {align-self: flex-start;width: 50%;}#sk-a1d48005-8120-4eaf-be35-1dd5e22c12a0 div.sk-parallel-item:only-child::after {width: 0;}#sk-a1d48005-8120-4eaf-be35-1dd5e22c12a0 div.sk-dashed-wrapped {border: 1px dashed gray;margin: 0 0.4em 0.5em 0.4em;box-sizing: border-box;padding-bottom: 0.4em;background-color: white;position: relative;}#sk-a1d48005-8120-4eaf-be35-1dd5e22c12a0 div.sk-label label {font-family: monospace;font-weight: bold;background-color: white;display: inline-block;line-height: 1.2em;}#sk-a1d48005-8120-4eaf-be35-1dd5e22c12a0 div.sk-label-container {position: relative;z-index: 2;text-align: center;}#sk-a1d48005-8120-4eaf-be35-1dd5e22c12a0 div.sk-container {/* jupyter's `normalize.less` sets `[hidden] { display: none; }` but bootstrap.min.css set `[hidden] { display: none !important; }` so we also need the `!important` here to be able to override the default hidden behavior on the sphinx rendered scikit-learn.org. See: https://github.com/scikit-learn/scikit-learn/issues/21755 */display: inline-block !important;position: relative;}#sk-a1d48005-8120-4eaf-be35-1dd5e22c12a0 div.sk-text-repr-fallback {display: none;}</style><div id=\"sk-a1d48005-8120-4eaf-be35-1dd5e22c12a0\" class=\"sk-top-container\"><div class=\"sk-text-repr-fallback\"><pre>Pipeline(steps=[(&#x27;onehotencoder&#x27;,\n",
              "                 OneHotEncoder(handle_unknown=&#x27;ignore&#x27;, sparse=False)),\n",
              "                (&#x27;pca&#x27;, PCA(n_components=0.95)),\n",
              "                (&#x27;randomforestclassifier&#x27;, RandomForestClassifier())])</pre><b>Please rerun this cell to show the HTML repr or trust the notebook.</b></div><div class=\"sk-container\" hidden><div class=\"sk-item sk-dashed-wrapped\"><div class=\"sk-label-container\"><div class=\"sk-label sk-toggleable\"><input class=\"sk-toggleable__control sk-hidden--visually\" id=\"138e5b23-a489-4c19-9006-524c48f638e0\" type=\"checkbox\" ><label for=\"138e5b23-a489-4c19-9006-524c48f638e0\" class=\"sk-toggleable__label sk-toggleable__label-arrow\">Pipeline</label><div class=\"sk-toggleable__content\"><pre>Pipeline(steps=[(&#x27;onehotencoder&#x27;,\n",
              "                 OneHotEncoder(handle_unknown=&#x27;ignore&#x27;, sparse=False)),\n",
              "                (&#x27;pca&#x27;, PCA(n_components=0.95)),\n",
              "                (&#x27;randomforestclassifier&#x27;, RandomForestClassifier())])</pre></div></div></div><div class=\"sk-serial\"><div class=\"sk-item\"><div class=\"sk-estimator sk-toggleable\"><input class=\"sk-toggleable__control sk-hidden--visually\" id=\"aa080bff-0523-44ba-b679-1be95db99a6b\" type=\"checkbox\" ><label for=\"aa080bff-0523-44ba-b679-1be95db99a6b\" class=\"sk-toggleable__label sk-toggleable__label-arrow\">OneHotEncoder</label><div class=\"sk-toggleable__content\"><pre>OneHotEncoder(handle_unknown=&#x27;ignore&#x27;, sparse=False)</pre></div></div></div><div class=\"sk-item\"><div class=\"sk-estimator sk-toggleable\"><input class=\"sk-toggleable__control sk-hidden--visually\" id=\"60002ea8-41de-437f-8be7-b90582ea9aea\" type=\"checkbox\" ><label for=\"60002ea8-41de-437f-8be7-b90582ea9aea\" class=\"sk-toggleable__label sk-toggleable__label-arrow\">PCA</label><div class=\"sk-toggleable__content\"><pre>PCA(n_components=0.95)</pre></div></div></div><div class=\"sk-item\"><div class=\"sk-estimator sk-toggleable\"><input class=\"sk-toggleable__control sk-hidden--visually\" id=\"10a0991c-5a3e-4b5d-abe0-75632f798b57\" type=\"checkbox\" ><label for=\"10a0991c-5a3e-4b5d-abe0-75632f798b57\" class=\"sk-toggleable__label sk-toggleable__label-arrow\">RandomForestClassifier</label><div class=\"sk-toggleable__content\"><pre>RandomForestClassifier()</pre></div></div></div></div></div></div></div>"
            ]
          },
          "metadata": {},
          "execution_count": 207
        }
      ]
    },
    {
      "cell_type": "code",
      "source": [
        "%%time\n",
        "PRF_Train_preds = pca_Random_Forest_pipe.predict(X_train)\n",
        "PRF_Test_preds = pca_Random_Forest_pipe.predict(X_test)\n",
        "metrics(PRF_Train_preds,y_train)\n",
        "print()\n",
        "metrics(PRF_Test_preds,y_test)"
      ],
      "metadata": {
        "colab": {
          "base_uri": "https://localhost:8080/"
        },
        "id": "JNcJDgIrDUC0",
        "outputId": "288d51e1-6077-4be7-eeaf-630c28cd26a2"
      },
      "execution_count": 208,
      "outputs": [
        {
          "output_type": "stream",
          "name": "stdout",
          "text": [
            "1.0\n",
            "1.0\n",
            "1.0\n",
            "\n",
            "1.0\n",
            "1.0\n",
            "1.0\n",
            "CPU times: user 246 ms, sys: 145 ms, total: 391 ms\n",
            "Wall time: 222 ms\n"
          ]
        }
      ]
    },
    {
      "cell_type": "markdown",
      "source": [
        "- For Random Forest the non pca pipeline was the fastest model that took 175ms. This was 216ms faster than the pca pipline. "
      ],
      "metadata": {
        "id": "3sT01tcRIn1Y"
      }
    },
    {
      "cell_type": "markdown",
      "source": [
        "# KNeighbors Classifier metrics "
      ],
      "metadata": {
        "id": "eYMC-3c5-JvY"
      }
    },
    {
      "cell_type": "code",
      "source": [
        "%%time\n",
        "pca_KNeighbors_pipe= make_pipeline (encoder, PCA(0.95), KNeighborsClassifier())\n",
        "pca_KNeighbors_pipe.fit(X_train, y_train)\n",
        "PKNC_Train_preds = pca_KNeighbors_pipe.predict(X_train)\n",
        "PKNC_Test_preds = pca_KNeighbors_pipe.predict(X_test)\n",
        "metrics(PKNC_Train_preds,y_train)\n",
        "print()\n",
        "metrics(PKNC_Test_preds,y_test)"
      ],
      "metadata": {
        "colab": {
          "base_uri": "https://localhost:8080/"
        },
        "id": "5rkquiFl0wMG",
        "outputId": "581a2f7d-3786-49be-ceba-66c869c45814"
      },
      "execution_count": 209,
      "outputs": [
        {
          "output_type": "stream",
          "name": "stdout",
          "text": [
            "1.0\n",
            "1.0\n",
            "1.0\n",
            "\n",
            "1.0\n",
            "1.0\n",
            "1.0\n",
            "CPU times: user 1.73 s, sys: 309 ms, total: 2.04 s\n",
            "Wall time: 1.52 s\n"
          ]
        }
      ]
    },
    {
      "cell_type": "code",
      "source": [
        "%%time\n",
        "Non_pca_KNeighbors_pipe= make_pipeline (encoder, KNeighborsClassifier())\n",
        "Non_pca_KNeighbors_pipe.fit(X_train, y_train)\n",
        "NPKNC_Train_preds = Non_pca_KNeighbors_pipe.predict(X_train)\n",
        "NPKNC_Test_preds = Non_pca_KNeighbors_pipe.predict(X_test)\n",
        "metrics(NPKNC_Train_preds,y_train)\n",
        "print()\n",
        "metrics(NPKNC_Test_preds,y_test)"
      ],
      "metadata": {
        "colab": {
          "base_uri": "https://localhost:8080/"
        },
        "id": "CKDFQzUAD8dv",
        "outputId": "13811ed9-c0f8-49df-b84a-6d0e45998999"
      },
      "execution_count": 210,
      "outputs": [
        {
          "output_type": "stream",
          "name": "stdout",
          "text": [
            "1.0\n",
            "1.0\n",
            "1.0\n",
            "\n",
            "1.0\n",
            "1.0\n",
            "1.0\n",
            "CPU times: user 1.94 s, sys: 232 ms, total: 2.17 s\n",
            "Wall time: 1.6 s\n"
          ]
        }
      ]
    },
    {
      "cell_type": "code",
      "source": [
        "pca_confmat = confusion_matrix(y_train, PKNC_Train_preds)\n",
        "print('PCA KNN matrix: \\n')\n",
        "sns.heatmap(pca_confmat, annot=True, fmt = 'g', cmap='Greens');"
      ],
      "metadata": {
        "colab": {
          "base_uri": "https://localhost:8080/",
          "height": 302
        },
        "id": "8v3L-uJWAV5Z",
        "outputId": "111f5f26-3026-4122-efae-755701be3ecf"
      },
      "execution_count": 211,
      "outputs": [
        {
          "output_type": "stream",
          "name": "stdout",
          "text": [
            "PCA KNN matrix: \n",
            "\n"
          ]
        },
        {
          "output_type": "display_data",
          "data": {
            "text/plain": [
              "<Figure size 432x288 with 2 Axes>"
            ],
            "image/png": "[encoded data removed]"
          },
          "metadata": {
            "needs_background": "light"
          }
        }
      ]
    },
    {
      "cell_type": "markdown",
      "source": [
        "- For KNeighbors the pca pipeline was the fastest model that took 2.04s. This was 13ms faster than the non pca pipline. "
      ],
      "metadata": {
        "id": "ENdbcCjDI_tC"
      }
    },
    {
      "cell_type": "markdown",
      "source": [
        "# In my opinion I recomend using the Logistic Regression model. The reasons being that it has really good accuracy scors and compaired to the other models, is efficient on time and accuracy. "
      ],
      "metadata": {
        "id": "ebSskcweJUtu"
      }
    }
  ]
}
